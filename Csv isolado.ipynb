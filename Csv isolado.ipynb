{
 "cells": [
  {
   "cell_type": "code",
   "execution_count": 260,
   "metadata": {},
   "outputs": [],
   "source": [
    "import pandas as pd\n",
    "import tabula"
   ]
  },
  {
   "cell_type": "code",
   "execution_count": 261,
   "metadata": {},
   "outputs": [],
   "source": [
    "from matplotlib import pyplot as plt\n",
    "import matplotlib.dates as mdates\n",
    "import matplotlib.ticker as ticker\n",
    "from pandas.plotting import register_matplotlib_converters\n",
    "register_matplotlib_converters()\n",
    "plt.style.use('fivethirtyeight')"
   ]
  },
  {
   "cell_type": "code",
   "execution_count": 241,
   "metadata": {},
   "outputs": [],
   "source": [
    "df = pd.read_csv('C:/Users/USUARIO/Downloads/tabula-boletim-diario-de-casos-covid-19-09-06-2020_C8KH7bo (4).csv', encoding='UTF-8', delimiter=',' , low_memory=False)"
   ]
  },
  {
   "cell_type": "code",
   "execution_count": 242,
   "metadata": {},
   "outputs": [
    {
     "data": {
      "text/html": [
       "<div>\n",
       "<style scoped>\n",
       "    .dataframe tbody tr th:only-of-type {\n",
       "        vertical-align: middle;\n",
       "    }\n",
       "\n",
       "    .dataframe tbody tr th {\n",
       "        vertical-align: top;\n",
       "    }\n",
       "\n",
       "    .dataframe thead th {\n",
       "        text-align: right;\n",
       "    }\n",
       "</style>\n",
       "<table border=\"1\" class=\"dataframe\">\n",
       "  <thead>\n",
       "    <tr style=\"text-align: right;\">\n",
       "      <th></th>\n",
       "      <th>Unnamed: 0</th>\n",
       "      <th>INTERNADOS CONFIRMADOS EM MANAUS</th>\n",
       "      <th>Unnamed: 2</th>\n",
       "      <th>Unnamed: 3</th>\n",
       "      <th>Unnamed: 4</th>\n",
       "      <th>Unnamed: 5</th>\n",
       "      <th>Unnamed: 6</th>\n",
       "      <th>Unnamed: 7</th>\n",
       "    </tr>\n",
       "  </thead>\n",
       "  <tbody>\n",
       "    <tr>\n",
       "      <th>0</th>\n",
       "      <td>NaN</td>\n",
       "      <td>REDE</td>\n",
       "      <td>INTERNADOS</td>\n",
       "      <td>LEITO CLÍNICO</td>\n",
       "      <td>%</td>\n",
       "      <td>EM UTI</td>\n",
       "      <td>%</td>\n",
       "      <td>NaN</td>\n",
       "    </tr>\n",
       "    <tr>\n",
       "      <th>1</th>\n",
       "      <td>NaN</td>\n",
       "      <td>PRIVADA</td>\n",
       "      <td>81</td>\n",
       "      <td>33</td>\n",
       "      <td>40,74%</td>\n",
       "      <td>48</td>\n",
       "      <td>59,26%</td>\n",
       "      <td>NaN</td>\n",
       "    </tr>\n",
       "    <tr>\n",
       "      <th>2</th>\n",
       "      <td>NaN</td>\n",
       "      <td>PÚBLICA</td>\n",
       "      <td>314</td>\n",
       "      <td>212</td>\n",
       "      <td>67,52%</td>\n",
       "      <td>102</td>\n",
       "      <td>32,48%</td>\n",
       "      <td>NaN</td>\n",
       "    </tr>\n",
       "    <tr>\n",
       "      <th>3</th>\n",
       "      <td>NaN</td>\n",
       "      <td>TOTAL</td>\n",
       "      <td>395</td>\n",
       "      <td>245</td>\n",
       "      <td>62,03%</td>\n",
       "      <td>150</td>\n",
       "      <td>37,97%</td>\n",
       "      <td>NaN</td>\n",
       "    </tr>\n",
       "  </tbody>\n",
       "</table>\n",
       "</div>"
      ],
      "text/plain": [
       "   Unnamed: 0 INTERNADOS CONFIRMADOS EM MANAUS  Unnamed: 2     Unnamed: 3  \\\n",
       "0         NaN                             REDE  INTERNADOS  LEITO CLÍNICO   \n",
       "1         NaN                          PRIVADA          81             33   \n",
       "2         NaN                          PÚBLICA         314            212   \n",
       "3         NaN                            TOTAL         395            245   \n",
       "\n",
       "  Unnamed: 4 Unnamed: 5 Unnamed: 6  Unnamed: 7  \n",
       "0          %     EM UTI          %         NaN  \n",
       "1     40,74%         48     59,26%         NaN  \n",
       "2     67,52%        102     32,48%         NaN  \n",
       "3     62,03%        150     37,97%         NaN  "
      ]
     },
     "execution_count": 242,
     "metadata": {},
     "output_type": "execute_result"
    }
   ],
   "source": [
    "df"
   ]
  },
  {
   "cell_type": "code",
   "execution_count": 243,
   "metadata": {},
   "outputs": [],
   "source": [
    "#df10 = pd.read_csv('C:/Users/USUARIO/Downloads/tabula-boletim-diario-de-casos-covid-19-10-06-2020.csv', encoding='UTF-8', delimiter=',' , low_memory=False)"
   ]
  },
  {
   "cell_type": "code",
   "execution_count": 244,
   "metadata": {},
   "outputs": [],
   "source": [
    "#df10"
   ]
  },
  {
   "cell_type": "code",
   "execution_count": 245,
   "metadata": {},
   "outputs": [],
   "source": [
    "#mesclando dados diferentes\n",
    "#df=pd.merge(df09,df10,how='left', left_on=['INTERNADOS CONFIRMADOS EM MANAUS'], right_on=['INTERNADOS CONFIRMADOS EM MANAUS'])"
   ]
  },
  {
   "cell_type": "code",
   "execution_count": 246,
   "metadata": {},
   "outputs": [
    {
     "data": {
      "text/html": [
       "<div>\n",
       "<style scoped>\n",
       "    .dataframe tbody tr th:only-of-type {\n",
       "        vertical-align: middle;\n",
       "    }\n",
       "\n",
       "    .dataframe tbody tr th {\n",
       "        vertical-align: top;\n",
       "    }\n",
       "\n",
       "    .dataframe thead th {\n",
       "        text-align: right;\n",
       "    }\n",
       "</style>\n",
       "<table border=\"1\" class=\"dataframe\">\n",
       "  <thead>\n",
       "    <tr style=\"text-align: right;\">\n",
       "      <th></th>\n",
       "      <th>Unnamed: 0</th>\n",
       "      <th>INTERNADOS CONFIRMADOS EM MANAUS</th>\n",
       "      <th>Unnamed: 2</th>\n",
       "      <th>Unnamed: 3</th>\n",
       "      <th>Unnamed: 4</th>\n",
       "      <th>Unnamed: 5</th>\n",
       "      <th>Unnamed: 6</th>\n",
       "      <th>Unnamed: 7</th>\n",
       "    </tr>\n",
       "  </thead>\n",
       "  <tbody>\n",
       "    <tr>\n",
       "      <th>0</th>\n",
       "      <td>NaN</td>\n",
       "      <td>REDE</td>\n",
       "      <td>INTERNADOS</td>\n",
       "      <td>LEITO CLÍNICO</td>\n",
       "      <td>%</td>\n",
       "      <td>EM UTI</td>\n",
       "      <td>%</td>\n",
       "      <td>NaN</td>\n",
       "    </tr>\n",
       "    <tr>\n",
       "      <th>1</th>\n",
       "      <td>NaN</td>\n",
       "      <td>PRIVADA</td>\n",
       "      <td>81</td>\n",
       "      <td>33</td>\n",
       "      <td>40,74%</td>\n",
       "      <td>48</td>\n",
       "      <td>59,26%</td>\n",
       "      <td>NaN</td>\n",
       "    </tr>\n",
       "    <tr>\n",
       "      <th>2</th>\n",
       "      <td>NaN</td>\n",
       "      <td>PÚBLICA</td>\n",
       "      <td>314</td>\n",
       "      <td>212</td>\n",
       "      <td>67,52%</td>\n",
       "      <td>102</td>\n",
       "      <td>32,48%</td>\n",
       "      <td>NaN</td>\n",
       "    </tr>\n",
       "    <tr>\n",
       "      <th>3</th>\n",
       "      <td>NaN</td>\n",
       "      <td>TOTAL</td>\n",
       "      <td>395</td>\n",
       "      <td>245</td>\n",
       "      <td>62,03%</td>\n",
       "      <td>150</td>\n",
       "      <td>37,97%</td>\n",
       "      <td>NaN</td>\n",
       "    </tr>\n",
       "  </tbody>\n",
       "</table>\n",
       "</div>"
      ],
      "text/plain": [
       "   Unnamed: 0 INTERNADOS CONFIRMADOS EM MANAUS  Unnamed: 2     Unnamed: 3  \\\n",
       "0         NaN                             REDE  INTERNADOS  LEITO CLÍNICO   \n",
       "1         NaN                          PRIVADA          81             33   \n",
       "2         NaN                          PÚBLICA         314            212   \n",
       "3         NaN                            TOTAL         395            245   \n",
       "\n",
       "  Unnamed: 4 Unnamed: 5 Unnamed: 6  Unnamed: 7  \n",
       "0          %     EM UTI          %         NaN  \n",
       "1     40,74%         48     59,26%         NaN  \n",
       "2     67,52%        102     32,48%         NaN  \n",
       "3     62,03%        150     37,97%         NaN  "
      ]
     },
     "execution_count": 246,
     "metadata": {},
     "output_type": "execute_result"
    }
   ],
   "source": [
    "df"
   ]
  },
  {
   "cell_type": "code",
   "execution_count": 247,
   "metadata": {},
   "outputs": [],
   "source": [
    "#elinando coluna sem informação relevante\n",
    "df.drop('Unnamed: 0',axis=1,inplace=True)\n",
    "df.drop('Unnamed: 7',axis=1,inplace=True)"
   ]
  },
  {
   "cell_type": "code",
   "execution_count": 248,
   "metadata": {},
   "outputs": [],
   "source": [
    "df.drop(0, axis=0, inplace=True)"
   ]
  },
  {
   "cell_type": "code",
   "execution_count": 249,
   "metadata": {},
   "outputs": [],
   "source": [
    "#dados faltante preechido com um \"-\"\n",
    "df.fillna(\"-\" , inplace=True)"
   ]
  },
  {
   "cell_type": "code",
   "execution_count": 250,
   "metadata": {},
   "outputs": [],
   "source": [
    "#renomeando coluna\n",
    "df.rename(columns={ \"INTERNADOS CONFIRMADOS EM MANAUS\":\"REDE\",  \"Unnamed: 2\":\"INTERNADO\",  \"Unnamed: 3\":\"LEITO CLÍNICO\",  \"Unnamed: 4\":\"%   \",\n",
    "                               \"Unnamed: 5\":\"EM UTI\",  \"Unnamed: 6\":\" %   \"}, inplace=True)\n"
   ]
  },
  {
   "cell_type": "code",
   "execution_count": 251,
   "metadata": {},
   "outputs": [],
   "source": [
    "#acrescentando coluna data\n",
    "df['DATA']=\"10/06/2020\""
   ]
  },
  {
   "cell_type": "code",
   "execution_count": 252,
   "metadata": {},
   "outputs": [],
   "source": [
    "cols = list(df.columns.values)"
   ]
  },
  {
   "cell_type": "code",
   "execution_count": 253,
   "metadata": {},
   "outputs": [
    {
     "data": {
      "text/html": [
       "<div>\n",
       "<style scoped>\n",
       "    .dataframe tbody tr th:only-of-type {\n",
       "        vertical-align: middle;\n",
       "    }\n",
       "\n",
       "    .dataframe tbody tr th {\n",
       "        vertical-align: top;\n",
       "    }\n",
       "\n",
       "    .dataframe thead th {\n",
       "        text-align: right;\n",
       "    }\n",
       "</style>\n",
       "<table border=\"1\" class=\"dataframe\">\n",
       "  <thead>\n",
       "    <tr style=\"text-align: right;\">\n",
       "      <th></th>\n",
       "      <th>REDE</th>\n",
       "      <th>INTERNADO</th>\n",
       "      <th>LEITO CLÍNICO</th>\n",
       "      <th>%</th>\n",
       "      <th>EM UTI</th>\n",
       "      <th>%</th>\n",
       "      <th>DATA</th>\n",
       "    </tr>\n",
       "  </thead>\n",
       "  <tbody>\n",
       "    <tr>\n",
       "      <th>1</th>\n",
       "      <td>PRIVADA</td>\n",
       "      <td>81</td>\n",
       "      <td>33</td>\n",
       "      <td>40,74%</td>\n",
       "      <td>48</td>\n",
       "      <td>59,26%</td>\n",
       "      <td>10/06/2020</td>\n",
       "    </tr>\n",
       "    <tr>\n",
       "      <th>2</th>\n",
       "      <td>PÚBLICA</td>\n",
       "      <td>314</td>\n",
       "      <td>212</td>\n",
       "      <td>67,52%</td>\n",
       "      <td>102</td>\n",
       "      <td>32,48%</td>\n",
       "      <td>10/06/2020</td>\n",
       "    </tr>\n",
       "    <tr>\n",
       "      <th>3</th>\n",
       "      <td>TOTAL</td>\n",
       "      <td>395</td>\n",
       "      <td>245</td>\n",
       "      <td>62,03%</td>\n",
       "      <td>150</td>\n",
       "      <td>37,97%</td>\n",
       "      <td>10/06/2020</td>\n",
       "    </tr>\n",
       "  </tbody>\n",
       "</table>\n",
       "</div>"
      ],
      "text/plain": [
       "      REDE INTERNADO LEITO CLÍNICO    %    EM UTI    %           DATA\n",
       "1  PRIVADA        81            33  40,74%     48  59,26%  10/06/2020\n",
       "2  PÚBLICA       314           212  67,52%    102  32,48%  10/06/2020\n",
       "3    TOTAL       395           245  62,03%    150  37,97%  10/06/2020"
      ]
     },
     "execution_count": 253,
     "metadata": {},
     "output_type": "execute_result"
    }
   ],
   "source": [
    "df"
   ]
  },
  {
   "cell_type": "code",
   "execution_count": 237,
   "metadata": {},
   "outputs": [],
   "source": [
    "#selecionando coluna\n",
    "#df['INTERNADO' ]"
   ]
  },
  {
   "cell_type": "code",
   "execution_count": null,
   "metadata": {},
   "outputs": [],
   "source": []
  }
 ],
 "metadata": {
  "kernelspec": {
   "display_name": "Python 3",
   "language": "python",
   "name": "python3"
  },
  "language_info": {
   "codemirror_mode": {
    "name": "ipython",
    "version": 3
   },
   "file_extension": ".py",
   "mimetype": "text/x-python",
   "name": "python",
   "nbconvert_exporter": "python",
   "pygments_lexer": "ipython3",
   "version": "3.7.6"
  }
 },
 "nbformat": 4,
 "nbformat_minor": 4
}
